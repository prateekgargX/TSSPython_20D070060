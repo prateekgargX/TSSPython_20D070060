{
 "cells": [
  {
   "cell_type": "code",
   "execution_count": 8,
   "id": "fa9702e7",
   "metadata": {},
   "outputs": [
    {
     "name": "stdout",
     "output_type": "stream",
     "text": [
      "Wecdcddcdc\n",
      "I'm a Geek\n",
      "I'm gonna take a nap\n",
      "yeah\n"
     ]
    }
   ],
   "source": [
    "String1 = 'Wecdcddcdc'\n",
    "print(String1)\n",
    "\n",
    "String1 = \"I'm a Geek\"\n",
    "print(String1)\n",
    "  \n",
    "# Creating a String\n",
    "# with triple Quotes\n",
    "String1 = '''I'm gonna take a nap'''\n",
    "print(String1)\n",
    "  \n",
    "# Creating String with triple\n",
    "# Quotes allows multiple lines\n",
    "String1 = '''yeah'''\n",
    "print(String1)"
   ]
  },
  {
   "cell_type": "code",
   "execution_count": 5,
   "id": "ede51c02",
   "metadata": {},
   "outputs": [
    {
     "name": "stdout",
     "output_type": "stream",
     "text": [
      "Hello World!\n",
      "\n",
      "First character of String is: \n",
      "H\n",
      "\n",
      "!\n"
     ]
    }
   ],
   "source": [
    "String1 = \"Hello World!\"\n",
    "print(String1)\n",
    "  \n",
    "# comments\n",
    "print(\"\\nFirst character of String is: \")\n",
    "print(String1[0])\n",
    "print(\"\\n\" + String1[-1])\n"
   ]
  },
  {
   "cell_type": "code",
   "execution_count": 13,
   "id": "07597265",
   "metadata": {},
   "outputs": [
    {
     "name": "stdout",
     "output_type": "stream",
     "text": [
      "lo P\n",
      "\n",
      "Slicing characters between 3rd and 2nd last character: \n",
      "lo \n",
      "o P\n"
     ]
    }
   ],
   "source": [
    "# prints characters between the specified index\n",
    "String1 = \"Hello Py\"\n",
    "String2 = String1[4:7]\n",
    "  \n",
    "print(String1[3:-1])\n",
    "print(\"\\nSlicing characters between \" +\n",
    "    \"3rd and 2nd last character: \")\n",
    "print(String1[3:-2])\n",
    "print(String2)"
   ]
  },
  {
   "cell_type": "code",
   "execution_count": 15,
   "id": "7470bd88",
   "metadata": {},
   "outputs": [],
   "source": [
    "#Can't update a specified index in a string. Have to update the entire string\n",
    "String1 = \"Hello\"\n",
    "print(String1)\n",
    "  \n",
    "# Updating a String\n",
    "String1 = \"Henlo\"\n",
    "print(\"\\nUpdated String: \")\n",
    "print(String1)"
   ]
  },
  {
   "cell_type": "code",
   "execution_count": 20,
   "id": "da6412a5",
   "metadata": {},
   "outputs": [
    {
     "name": "stdout",
     "output_type": "stream",
     "text": [
      "Hefdfh\n",
      "\n",
      "Will not recognise String1: \n"
     ]
    },
    {
     "ename": "NameError",
     "evalue": "name 'String1' is not defined",
     "output_type": "error",
     "traceback": [
      "\u001b[1;31m---------------------------------------------------------------------------\u001b[0m",
      "\u001b[1;31mNameError\u001b[0m                                 Traceback (most recent call last)",
      "\u001b[1;32m~\\AppData\\Local\\Temp/ipykernel_5196/504291069.py\u001b[0m in \u001b[0;36m<module>\u001b[1;34m\u001b[0m\n\u001b[0;32m      5\u001b[0m \u001b[1;32mdel\u001b[0m \u001b[0mString1\u001b[0m\u001b[1;33m\u001b[0m\u001b[1;33m\u001b[0m\u001b[0m\n\u001b[0;32m      6\u001b[0m \u001b[0mprint\u001b[0m\u001b[1;33m(\u001b[0m\u001b[1;34m\"\\nWill not recognise String1: \"\u001b[0m\u001b[1;33m)\u001b[0m\u001b[1;33m\u001b[0m\u001b[1;33m\u001b[0m\u001b[0m\n\u001b[1;32m----> 7\u001b[1;33m \u001b[0mprint\u001b[0m\u001b[1;33m(\u001b[0m\u001b[0mString1\u001b[0m\u001b[1;33m)\u001b[0m\u001b[1;33m\u001b[0m\u001b[1;33m\u001b[0m\u001b[0m\n\u001b[0m",
      "\u001b[1;31mNameError\u001b[0m: name 'String1' is not defined"
     ]
    }
   ],
   "source": [
    "#Can't use del keyword to delete a string instead delete entire string\n",
    "String1 = \"Hefdfh\"\n",
    "print(String1)\n",
    "  \n",
    "del String1 \n",
    "print(\"\\nWill not recognise String1: \")\n",
    "print(String1)"
   ]
  },
  {
   "cell_type": "markdown",
   "id": "5ab2f424",
   "metadata": {},
   "source": [
    "\n",
    "While printing Strings with single and double quotes in it causes SyntaxErr\n",
    "or because String already contains Single and Double Quotes and hence cannot be pr\n",
    "inted with the use of either of these. Hence, to\n",
    "print such a String either Triple Quotes are used or Escape sequences are used to print such Strings.\n",
    "\n",
    "Escape sequences start with a backslash and can be interpreted differently. If single quotes \n",
    "are used to represent a string, then all the single quotes present in the string must be escaped and same is done for Double Quotes.\n",
    "\n",
    "```python\n",
    "# Initial String\n",
    "String1 = '''I'm a \"Geek\"'''\n",
    "print(\"Initial String with use of Triple Quotes: \")\n",
    "print(String1)\n",
    "  \n",
    "# Escaping Single Quote \n",
    "String1 = 'I\\'m a \"Geek\"'\n",
    "print(\"\\nEscaping Single Quote: \")\n",
    "print(String1)\n",
    "  \n",
    "# Escaping Doule Quotes\n",
    "String1 = \"I'm a \\\"Geek\\\"\"\n",
    "print(\"\\nEscaping Double Quotes: \")\n",
    "print(String1)\n",
    "  \n",
    "# Printing Paths with the \n",
    "# use of Escape Sequences\n",
    "String1 = \"C:\\\\Python\\\\Geeks\\\\\"\n",
    "print(\"\\nEscaping Backslashes: \")\n",
    "print(String1)\n",
    "```"
   ]
  },
  {
   "cell_type": "code",
   "execution_count": 21,
   "id": "1fa12bd4",
   "metadata": {},
   "outputs": [
    {
     "name": "stdout",
     "output_type": "stream",
     "text": [
      "\n",
      "Printing in HEX with the use of Escape Sequences: \n",
      "This is Geeks in HEX\n",
      "\n",
      "Printing Raw String in HEX Format: \n",
      "This is \\x47\\x65\\x65\\x6b\\x73 in \\x48\\x45\\x58\n"
     ]
    }
   ],
   "source": [
    "String1 = \"This is \\x47\\x65\\x65\\x6b\\x73 in \\x48\\x45\\x58\"\n",
    "print(\"\\nPrinting in HEX with the use of Escape Sequences: \")\n",
    "print(String1)\n",
    "  \n",
    "# Using raw String to \n",
    "# ignore Escape Sequences\n",
    "String1 = r\"This is \\x47\\x65\\x65\\x6b\\x73 in \\x48\\x45\\x58\"\n",
    "print(\"\\nPrinting Raw String in HEX Format: \")\n",
    "print(String1)"
   ]
  },
  {
   "cell_type": "code",
   "execution_count": 25,
   "id": "fbac7df4",
   "metadata": {},
   "outputs": [
    {
     "name": "stdout",
     "output_type": "stream",
     "text": [
      "Print String in default order: \n",
      "Geththth Fsgor Lifhrhrhdrhe\n",
      "\n",
      "Print String in Positional order: \n",
      "Lifhgfhfge Gkshfd Lifhgfhfge\n",
      "\n",
      "Print String in order of Keywords: \n",
      "Lchgcnhife Fhngcnchgnhor ngngs\n"
     ]
    }
   ],
   "source": [
    "# Default order\n",
    "String1 = \"{} {} {}\".format('Geththth', 'Fsgor', 'Lifhrhrhdrhe')\n",
    "print(\"Print String in default order: \")\n",
    "print(String1)\n",
    "  \n",
    "# Positional Formatting\n",
    "String1 = \"{2} {0} {2}\".format('Gkshfd', 'fhFhfhor', 'Lifhgfhfge')\n",
    "print(\"\\nPrint String in Positional order: \")\n",
    "print(String1)\n",
    "  \n",
    "# Keyword Formatting\n",
    "String1 = \"{l} {f} {g}\".format(g = 'ngngs', f = 'Fhngcnchgnhor', l = 'Lchgcnhife')\n",
    "print(\"\\nPrint String in order of Keywords: \")\n",
    "print(String1)"
   ]
  },
  {
   "cell_type": "code",
   "execution_count": 31,
   "id": "e4b1c8ec",
   "metadata": {},
   "outputs": [
    {
     "name": "stdout",
     "output_type": "stream",
     "text": [
      "\n",
      "Binary representation of 16 is \n",
      "10000\n",
      "\n",
      "Exponent representation of 165.6458 is \n",
      "1.656458e+02\n",
      "\n",
      "one-sixth is : \n",
      "0.1666666666666666574148081281236954964697360992431640625000000000000\n"
     ]
    }
   ],
   "source": [
    "# Formatting of Integers\n",
    "String1 = \"{0:b}\".format(16)\n",
    "print(\"\\nBinary representation of 16 is \")\n",
    "print(String1)\n",
    "  \n",
    "# Formatting of Floats\n",
    "String1 = \"{0:e}\".format(165.6458)\n",
    "print(\"\\nExponent representation of 165.6458 is \")\n",
    "print(String1)\n",
    "  \n",
    "# Rounding off Integers 3f do 3 digits of float.\n",
    "String1 = \"{0:.67f}\".format(1/6)\n",
    "print(\"\\none-sixth is : \")\n",
    "print(String1)\n"
   ]
  },
  {
   "cell_type": "code",
   "execution_count": 44,
   "id": "5bd31103",
   "metadata": {},
   "outputs": [
    {
     "name": "stdout",
     "output_type": "stream",
     "text": [
      "\n",
      "Left, center and right alignment with Formatting: \n",
      "|huhuh|dcdsc|  dcdscdks|\n",
      "\n",
      " GeeksforGeeks   was founded in 2009!\n"
     ]
    }
   ],
   "source": [
    "# String alignment\n",
    "String1 = \"|{:<4}|{:^4}|{:>10}|\".format('huhuh','dcdsc','dcdscdks')\n",
    "print(\"\\nLeft, center and right alignment with Formatting: \")\n",
    "print(String1)\n",
    "  \n",
    "# To demonstrate aligning of spaces \n",
    "String1 = \"\\n{0:^16} was founded in {1:<4}!\".format(\"GeeksforGeeks\", 2009)\n",
    "print(String1)"
   ]
  },
  {
   "cell_type": "code",
   "execution_count": 47,
   "id": "fad080c6",
   "metadata": {},
   "outputs": [
    {
     "name": "stdout",
     "output_type": "stream",
     "text": [
      "Formatting in 3.2f format: \n",
      "The value of Integer1 is 12.3\n",
      "\n",
      "Formatting in 3.4f format: \n",
      "The value of Integer1 is                            12.3457\n"
     ]
    }
   ],
   "source": [
    "Integer1 = 12.3456789\n",
    "print(\"Formatting in 3.2f format: \")\n",
    "print('The value of Integer1 is %4.1f' %Integer1)\n",
    "print(\"\\nFormatting in 3.4f format: \")\n",
    "print('The value of Integer1 is %34.4f' %Integer1)"
   ]
  },
  {
   "cell_type": "code",
   "execution_count": null,
   "id": "4f4aa184",
   "metadata": {},
   "outputs": [],
   "source": []
  }
 ],
 "metadata": {
  "kernelspec": {
   "display_name": "Python 3 (ipykernel)",
   "language": "python",
   "name": "python3"
  },
  "language_info": {
   "codemirror_mode": {
    "name": "ipython",
    "version": 3
   },
   "file_extension": ".py",
   "mimetype": "text/x-python",
   "name": "python",
   "nbconvert_exporter": "python",
   "pygments_lexer": "ipython3",
   "version": "3.9.6"
  }
 },
 "nbformat": 4,
 "nbformat_minor": 5
}
